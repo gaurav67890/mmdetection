{
 "cells": [
  {
   "cell_type": "code",
   "execution_count": 2,
   "metadata": {},
   "outputs": [],
   "source": [
    "import pandas as pd\n",
    "import numpy as np\n",
    "import matplotlib.pyplot as plt \n",
    "import json"
   ]
  },
  {
   "cell_type": "code",
   "execution_count": 16,
   "metadata": {},
   "outputs": [],
   "source": [
    "p1=['scratch_cp_0.json','scratch_cp_3400.json','scratch_cp_3437.json']"
   ]
  },
  {
   "cell_type": "code",
   "execution_count": 23,
   "metadata": {},
   "outputs": [
    {
     "name": "stdout",
     "output_type": "stream",
     "text": [
      "3400\n",
      "36\n",
      "338\n"
     ]
    }
   ],
   "source": [
    "d_list=[]\n",
    "for p in p1:\n",
    "    with open('../data/disk1/'+p) as f:\n",
    "        d1=json.load(f)\n",
    "    print(len(d1['predict']))\n",
    "    d_list.extend(d1['predict'])"
   ]
  },
  {
   "cell_type": "code",
   "execution_count": 33,
   "metadata": {},
   "outputs": [],
   "source": [
    "name=[]\n",
    "num=[]\n",
    "parts=[]\n",
    "for i in d_list:\n",
    "    name.append(i['image_name'])\n",
    "    parts.append(str(list(i['damages'].keys())))\n",
    "    num.append(len(i['damages'].keys()))"
   ]
  },
  {
   "cell_type": "code",
   "execution_count": 37,
   "metadata": {},
   "outputs": [],
   "source": [
    "dent_out=pd.DataFrame([name,parts,num], index=['name', 'parts', 'num']).T"
   ]
  },
  {
   "cell_type": "code",
   "execution_count": 43,
   "metadata": {},
   "outputs": [],
   "source": [
    "dent_out.to_csv('scratch_out.csv')"
   ]
  },
  {
   "cell_type": "code",
   "execution_count": 45,
   "metadata": {},
   "outputs": [],
   "source": [
    "#read car-parts data\n",
    "df_car=pd.read_csv('scratch_out.csv')\n",
    "df_car=df_car.drop(df_car.columns[0], axis=1)\n",
    "#read dent prediction data\n",
    "df_dent=pd.read_csv('scratch_data_out.csv')"
   ]
  },
  {
   "cell_type": "code",
   "execution_count": 48,
   "metadata": {},
   "outputs": [],
   "source": [
    "df_car=df_car.rename(columns={\"name\": \"image_name\"})"
   ]
  },
  {
   "cell_type": "code",
   "execution_count": 52,
   "metadata": {},
   "outputs": [
    {
     "name": "stdout",
     "output_type": "stream",
     "text": [
      "3774\n",
      "3775\n"
     ]
    }
   ],
   "source": [
    "print(len(df_car))\n",
    "print(len(df_dent))"
   ]
  },
  {
   "cell_type": "code",
   "execution_count": 49,
   "metadata": {},
   "outputs": [
    {
     "data": {
      "text/html": [
       "<div>\n",
       "<style scoped>\n",
       "    .dataframe tbody tr th:only-of-type {\n",
       "        vertical-align: middle;\n",
       "    }\n",
       "\n",
       "    .dataframe tbody tr th {\n",
       "        vertical-align: top;\n",
       "    }\n",
       "\n",
       "    .dataframe thead th {\n",
       "        text-align: right;\n",
       "    }\n",
       "</style>\n",
       "<table border=\"1\" class=\"dataframe\">\n",
       "  <thead>\n",
       "    <tr style=\"text-align: right;\">\n",
       "      <th></th>\n",
       "      <th>image_name</th>\n",
       "      <th>parts</th>\n",
       "      <th>num</th>\n",
       "    </tr>\n",
       "  </thead>\n",
       "  <tbody>\n",
       "    <tr>\n",
       "      <th>0</th>\n",
       "      <td>https:__s3.amazonaws.com_mc-imt_vehicle_2018X6...</td>\n",
       "      <td>['door']</td>\n",
       "      <td>1</td>\n",
       "    </tr>\n",
       "    <tr>\n",
       "      <th>1</th>\n",
       "      <td>https:__s3.amazonaws.com_mc-ai_dataset_india_2...</td>\n",
       "      <td>['hli_head_light', 'grille', 'tyre', 'window',...</td>\n",
       "      <td>21</td>\n",
       "    </tr>\n",
       "    <tr>\n",
       "      <th>2</th>\n",
       "      <td>https:__s3.amazonaws.com_mc-ai_dataset_KBC_unz...</td>\n",
       "      <td>['door']</td>\n",
       "      <td>1</td>\n",
       "    </tr>\n",
       "    <tr>\n",
       "      <th>3</th>\n",
       "      <td>https:__s3.amazonaws.com_mc-imt_vehicle_2019Y4...</td>\n",
       "      <td>['tyre', 'hli_head_light', 'alloy_wheel', 'hoo...</td>\n",
       "      <td>10</td>\n",
       "    </tr>\n",
       "    <tr>\n",
       "      <th>4</th>\n",
       "      <td>https:__s3.amazonaws.com_mc-imt_vehicle_2019Z1...</td>\n",
       "      <td>['rbu_rear_bumper', 'qpa_quarter_panel']</td>\n",
       "      <td>2</td>\n",
       "    </tr>\n",
       "  </tbody>\n",
       "</table>\n",
       "</div>"
      ],
      "text/plain": [
       "                                          image_name  \\\n",
       "0  https:__s3.amazonaws.com_mc-imt_vehicle_2018X6...   \n",
       "1  https:__s3.amazonaws.com_mc-ai_dataset_india_2...   \n",
       "2  https:__s3.amazonaws.com_mc-ai_dataset_KBC_unz...   \n",
       "3  https:__s3.amazonaws.com_mc-imt_vehicle_2019Y4...   \n",
       "4  https:__s3.amazonaws.com_mc-imt_vehicle_2019Z1...   \n",
       "\n",
       "                                               parts  num  \n",
       "0                                           ['door']    1  \n",
       "1  ['hli_head_light', 'grille', 'tyre', 'window',...   21  \n",
       "2                                           ['door']    1  \n",
       "3  ['tyre', 'hli_head_light', 'alloy_wheel', 'hoo...   10  \n",
       "4           ['rbu_rear_bumper', 'qpa_quarter_panel']    2  "
      ]
     },
     "execution_count": 49,
     "metadata": {},
     "output_type": "execute_result"
    }
   ],
   "source": [
    "df_car.head()"
   ]
  },
  {
   "cell_type": "code",
   "execution_count": 50,
   "metadata": {},
   "outputs": [
    {
     "data": {
      "text/html": [
       "<div>\n",
       "<style scoped>\n",
       "    .dataframe tbody tr th:only-of-type {\n",
       "        vertical-align: middle;\n",
       "    }\n",
       "\n",
       "    .dataframe tbody tr th {\n",
       "        vertical-align: top;\n",
       "    }\n",
       "\n",
       "    .dataframe thead th {\n",
       "        text-align: right;\n",
       "    }\n",
       "</style>\n",
       "<table border=\"1\" class=\"dataframe\">\n",
       "  <thead>\n",
       "    <tr style=\"text-align: right;\">\n",
       "      <th></th>\n",
       "      <th>image_name</th>\n",
       "      <th>image_id</th>\n",
       "      <th>annotated_poly</th>\n",
       "      <th>predicted_poly</th>\n",
       "      <th>fp_check</th>\n",
       "      <th>tp</th>\n",
       "      <th>fp</th>\n",
       "      <th>fn</th>\n",
       "    </tr>\n",
       "  </thead>\n",
       "  <tbody>\n",
       "    <tr>\n",
       "      <th>0</th>\n",
       "      <td>https:__s3.amazonaws.com_mc-imt_vehicle_2018X6...</td>\n",
       "      <td>3101</td>\n",
       "      <td>[[0, 264.75329993049723, 65.23146581435134, 48...</td>\n",
       "      <td>[[[(1, 260), (69, 313)], [(6, 8), (171, 49)], ...</td>\n",
       "      <td>0</td>\n",
       "      <td>3</td>\n",
       "      <td>0</td>\n",
       "      <td>1</td>\n",
       "    </tr>\n",
       "    <tr>\n",
       "      <th>1</th>\n",
       "      <td>https:__s3.amazonaws.com_mc-ai_dataset_india_2...</td>\n",
       "      <td>17321</td>\n",
       "      <td>[[587.1805758808483, 541.5151304800908, 43.576...</td>\n",
       "      <td>[[[(586, 540), (630, 555)], [(728, 607), (745,...</td>\n",
       "      <td>1</td>\n",
       "      <td>3</td>\n",
       "      <td>1</td>\n",
       "      <td>5</td>\n",
       "    </tr>\n",
       "    <tr>\n",
       "      <th>2</th>\n",
       "      <td>https:__s3.amazonaws.com_mc-ai_dataset_KBC_unz...</td>\n",
       "      <td>8787</td>\n",
       "      <td>[[1143.3054495177678, 487.5918361869106, 130.2...</td>\n",
       "      <td>[[[(1137, 476), (1280, 659)], [(1504, 377), (1...</td>\n",
       "      <td>0</td>\n",
       "      <td>2</td>\n",
       "      <td>0</td>\n",
       "      <td>3</td>\n",
       "    </tr>\n",
       "    <tr>\n",
       "      <th>3</th>\n",
       "      <td>https:__s3.amazonaws.com_mc-imt_vehicle_2019Y4...</td>\n",
       "      <td>4063</td>\n",
       "      <td>[[469.88512086957803, 400.5933058104699, 19.48...</td>\n",
       "      <td>[]</td>\n",
       "      <td>0</td>\n",
       "      <td>0</td>\n",
       "      <td>0</td>\n",
       "      <td>1</td>\n",
       "    </tr>\n",
       "    <tr>\n",
       "      <th>4</th>\n",
       "      <td>https:__s3.amazonaws.com_mc-imt_vehicle_2019Z1...</td>\n",
       "      <td>7463</td>\n",
       "      <td>[[295.5080142065347, 215.4440509350271, 15.278...</td>\n",
       "      <td>[[[(180, 248), (286, 291)], [(45, 92), (90, 11...</td>\n",
       "      <td>1</td>\n",
       "      <td>4</td>\n",
       "      <td>4</td>\n",
       "      <td>0</td>\n",
       "    </tr>\n",
       "  </tbody>\n",
       "</table>\n",
       "</div>"
      ],
      "text/plain": [
       "                                          image_name  image_id  \\\n",
       "0  https:__s3.amazonaws.com_mc-imt_vehicle_2018X6...      3101   \n",
       "1  https:__s3.amazonaws.com_mc-ai_dataset_india_2...     17321   \n",
       "2  https:__s3.amazonaws.com_mc-ai_dataset_KBC_unz...      8787   \n",
       "3  https:__s3.amazonaws.com_mc-imt_vehicle_2019Y4...      4063   \n",
       "4  https:__s3.amazonaws.com_mc-imt_vehicle_2019Z1...      7463   \n",
       "\n",
       "                                      annotated_poly  \\\n",
       "0  [[0, 264.75329993049723, 65.23146581435134, 48...   \n",
       "1  [[587.1805758808483, 541.5151304800908, 43.576...   \n",
       "2  [[1143.3054495177678, 487.5918361869106, 130.2...   \n",
       "3  [[469.88512086957803, 400.5933058104699, 19.48...   \n",
       "4  [[295.5080142065347, 215.4440509350271, 15.278...   \n",
       "\n",
       "                                      predicted_poly  fp_check  tp  fp  fn  \n",
       "0  [[[(1, 260), (69, 313)], [(6, 8), (171, 49)], ...         0   3   0   1  \n",
       "1  [[[(586, 540), (630, 555)], [(728, 607), (745,...         1   3   1   5  \n",
       "2  [[[(1137, 476), (1280, 659)], [(1504, 377), (1...         0   2   0   3  \n",
       "3                                                 []         0   0   0   1  \n",
       "4  [[[(180, 248), (286, 291)], [(45, 92), (90, 11...         1   4   4   0  "
      ]
     },
     "execution_count": 50,
     "metadata": {},
     "output_type": "execute_result"
    }
   ],
   "source": [
    "df_dent.head()"
   ]
  },
  {
   "cell_type": "code",
   "execution_count": 102,
   "metadata": {},
   "outputs": [],
   "source": [
    "#df = pd.concat([df_car, df_dent], axis=1, sort=False)"
   ]
  },
  {
   "cell_type": "code",
   "execution_count": 53,
   "metadata": {},
   "outputs": [],
   "source": [
    "df=pd.merge(df_car, df_dent,on='image_name', how='inner')"
   ]
  },
  {
   "cell_type": "code",
   "execution_count": 54,
   "metadata": {},
   "outputs": [
    {
     "name": "stdout",
     "output_type": "stream",
     "text": [
      "3774\n"
     ]
    }
   ],
   "source": [
    "print(len(df))"
   ]
  },
  {
   "cell_type": "code",
   "execution_count": 55,
   "metadata": {},
   "outputs": [
    {
     "data": {
      "text/html": [
       "<div>\n",
       "<style scoped>\n",
       "    .dataframe tbody tr th:only-of-type {\n",
       "        vertical-align: middle;\n",
       "    }\n",
       "\n",
       "    .dataframe tbody tr th {\n",
       "        vertical-align: top;\n",
       "    }\n",
       "\n",
       "    .dataframe thead th {\n",
       "        text-align: right;\n",
       "    }\n",
       "</style>\n",
       "<table border=\"1\" class=\"dataframe\">\n",
       "  <thead>\n",
       "    <tr style=\"text-align: right;\">\n",
       "      <th></th>\n",
       "      <th>image_name</th>\n",
       "      <th>parts</th>\n",
       "      <th>num</th>\n",
       "      <th>image_id</th>\n",
       "      <th>annotated_poly</th>\n",
       "      <th>predicted_poly</th>\n",
       "      <th>fp_check</th>\n",
       "      <th>tp</th>\n",
       "      <th>fp</th>\n",
       "      <th>fn</th>\n",
       "    </tr>\n",
       "  </thead>\n",
       "  <tbody>\n",
       "    <tr>\n",
       "      <th>0</th>\n",
       "      <td>https:__s3.amazonaws.com_mc-imt_vehicle_2018X6...</td>\n",
       "      <td>['door']</td>\n",
       "      <td>1</td>\n",
       "      <td>3101</td>\n",
       "      <td>[[0, 264.75329993049723, 65.23146581435134, 48...</td>\n",
       "      <td>[[[(1, 260), (69, 313)], [(6, 8), (171, 49)], ...</td>\n",
       "      <td>0</td>\n",
       "      <td>3</td>\n",
       "      <td>0</td>\n",
       "      <td>1</td>\n",
       "    </tr>\n",
       "    <tr>\n",
       "      <th>1</th>\n",
       "      <td>https:__s3.amazonaws.com_mc-ai_dataset_india_2...</td>\n",
       "      <td>['hli_head_light', 'grille', 'tyre', 'window',...</td>\n",
       "      <td>21</td>\n",
       "      <td>17321</td>\n",
       "      <td>[[587.1805758808483, 541.5151304800908, 43.576...</td>\n",
       "      <td>[[[(586, 540), (630, 555)], [(728, 607), (745,...</td>\n",
       "      <td>1</td>\n",
       "      <td>3</td>\n",
       "      <td>1</td>\n",
       "      <td>5</td>\n",
       "    </tr>\n",
       "    <tr>\n",
       "      <th>2</th>\n",
       "      <td>https:__s3.amazonaws.com_mc-ai_dataset_KBC_unz...</td>\n",
       "      <td>['door']</td>\n",
       "      <td>1</td>\n",
       "      <td>8787</td>\n",
       "      <td>[[1143.3054495177678, 487.5918361869106, 130.2...</td>\n",
       "      <td>[[[(1137, 476), (1280, 659)], [(1504, 377), (1...</td>\n",
       "      <td>0</td>\n",
       "      <td>2</td>\n",
       "      <td>0</td>\n",
       "      <td>3</td>\n",
       "    </tr>\n",
       "    <tr>\n",
       "      <th>3</th>\n",
       "      <td>https:__s3.amazonaws.com_mc-imt_vehicle_2019Y4...</td>\n",
       "      <td>['tyre', 'hli_head_light', 'alloy_wheel', 'hoo...</td>\n",
       "      <td>10</td>\n",
       "      <td>4063</td>\n",
       "      <td>[[469.88512086957803, 400.5933058104699, 19.48...</td>\n",
       "      <td>[]</td>\n",
       "      <td>0</td>\n",
       "      <td>0</td>\n",
       "      <td>0</td>\n",
       "      <td>1</td>\n",
       "    </tr>\n",
       "    <tr>\n",
       "      <th>4</th>\n",
       "      <td>https:__s3.amazonaws.com_mc-imt_vehicle_2019Z1...</td>\n",
       "      <td>['rbu_rear_bumper', 'qpa_quarter_panel']</td>\n",
       "      <td>2</td>\n",
       "      <td>7463</td>\n",
       "      <td>[[295.5080142065347, 215.4440509350271, 15.278...</td>\n",
       "      <td>[[[(180, 248), (286, 291)], [(45, 92), (90, 11...</td>\n",
       "      <td>1</td>\n",
       "      <td>4</td>\n",
       "      <td>4</td>\n",
       "      <td>0</td>\n",
       "    </tr>\n",
       "    <tr>\n",
       "      <th>5</th>\n",
       "      <td>https:__s3.amazonaws.com_mc-imt_vehicle_2019Y3...</td>\n",
       "      <td>['tli_tail_light', 'tyre', 'door', 'alloy_whee...</td>\n",
       "      <td>17</td>\n",
       "      <td>4104</td>\n",
       "      <td>[[215.90844666333564, 301.1099861537999, 10.89...</td>\n",
       "      <td>[[[(333, 321), (371, 348)], [(313, 319), (372,...</td>\n",
       "      <td>1</td>\n",
       "      <td>1</td>\n",
       "      <td>2</td>\n",
       "      <td>0</td>\n",
       "    </tr>\n",
       "    <tr>\n",
       "      <th>6</th>\n",
       "      <td>https:__s3.amazonaws.com_mc-ai_dataset_KBC_unz...</td>\n",
       "      <td>['tyre', 'fbu_front_bumper', 'grille', 'hli_he...</td>\n",
       "      <td>4</td>\n",
       "      <td>9714</td>\n",
       "      <td>[[1246.9857575532992, 348.46116341001243, 132....</td>\n",
       "      <td>[[[(818, 248), (1212, 565)], [(159, 22), (231,...</td>\n",
       "      <td>1</td>\n",
       "      <td>1</td>\n",
       "      <td>3</td>\n",
       "      <td>2</td>\n",
       "    </tr>\n",
       "    <tr>\n",
       "      <th>7</th>\n",
       "      <td>https:__s3.amazonaws.com_mc-imt_vehicle_2019A4...</td>\n",
       "      <td>['alloy_wheel', 'door', 'tyre', 'tli_tail_ligh...</td>\n",
       "      <td>7</td>\n",
       "      <td>360</td>\n",
       "      <td>[[216.76906262330252, 499.54152572485384, 91.7...</td>\n",
       "      <td>[[[(330, 637), (460, 789)], [(239, 570), (306,...</td>\n",
       "      <td>0</td>\n",
       "      <td>2</td>\n",
       "      <td>0</td>\n",
       "      <td>1</td>\n",
       "    </tr>\n",
       "    <tr>\n",
       "      <th>8</th>\n",
       "      <td>https:__s3.amazonaws.com_mc-ai_vn_car_thinh_an...</td>\n",
       "      <td>['tyre', 'alloy_wheel', 'fbu_front_bumper', 'h...</td>\n",
       "      <td>7</td>\n",
       "      <td>14954</td>\n",
       "      <td>[[255.56728176385403, 387.509410151327, 121.58...</td>\n",
       "      <td>[[[(634, 612), (742, 726)], [(89, 453), (205, ...</td>\n",
       "      <td>1</td>\n",
       "      <td>2</td>\n",
       "      <td>1</td>\n",
       "      <td>0</td>\n",
       "    </tr>\n",
       "    <tr>\n",
       "      <th>9</th>\n",
       "      <td>https:__s3.amazonaws.com_mc-imt_vehicle_2019Z7...</td>\n",
       "      <td>['tli_tail_light', 'rbu_rear_bumper', 'tail_ga...</td>\n",
       "      <td>3</td>\n",
       "      <td>7363</td>\n",
       "      <td>[[348.03747502139396, 255.4204338514596, 281.4...</td>\n",
       "      <td>[[[(377, 254), (621, 520)], [(273, 241), (310,...</td>\n",
       "      <td>0</td>\n",
       "      <td>1</td>\n",
       "      <td>0</td>\n",
       "      <td>0</td>\n",
       "    </tr>\n",
       "  </tbody>\n",
       "</table>\n",
       "</div>"
      ],
      "text/plain": [
       "                                          image_name  \\\n",
       "0  https:__s3.amazonaws.com_mc-imt_vehicle_2018X6...   \n",
       "1  https:__s3.amazonaws.com_mc-ai_dataset_india_2...   \n",
       "2  https:__s3.amazonaws.com_mc-ai_dataset_KBC_unz...   \n",
       "3  https:__s3.amazonaws.com_mc-imt_vehicle_2019Y4...   \n",
       "4  https:__s3.amazonaws.com_mc-imt_vehicle_2019Z1...   \n",
       "5  https:__s3.amazonaws.com_mc-imt_vehicle_2019Y3...   \n",
       "6  https:__s3.amazonaws.com_mc-ai_dataset_KBC_unz...   \n",
       "7  https:__s3.amazonaws.com_mc-imt_vehicle_2019A4...   \n",
       "8  https:__s3.amazonaws.com_mc-ai_vn_car_thinh_an...   \n",
       "9  https:__s3.amazonaws.com_mc-imt_vehicle_2019Z7...   \n",
       "\n",
       "                                               parts  num  image_id  \\\n",
       "0                                           ['door']    1      3101   \n",
       "1  ['hli_head_light', 'grille', 'tyre', 'window',...   21     17321   \n",
       "2                                           ['door']    1      8787   \n",
       "3  ['tyre', 'hli_head_light', 'alloy_wheel', 'hoo...   10      4063   \n",
       "4           ['rbu_rear_bumper', 'qpa_quarter_panel']    2      7463   \n",
       "5  ['tli_tail_light', 'tyre', 'door', 'alloy_whee...   17      4104   \n",
       "6  ['tyre', 'fbu_front_bumper', 'grille', 'hli_he...    4      9714   \n",
       "7  ['alloy_wheel', 'door', 'tyre', 'tli_tail_ligh...    7       360   \n",
       "8  ['tyre', 'alloy_wheel', 'fbu_front_bumper', 'h...    7     14954   \n",
       "9  ['tli_tail_light', 'rbu_rear_bumper', 'tail_ga...    3      7363   \n",
       "\n",
       "                                      annotated_poly  \\\n",
       "0  [[0, 264.75329993049723, 65.23146581435134, 48...   \n",
       "1  [[587.1805758808483, 541.5151304800908, 43.576...   \n",
       "2  [[1143.3054495177678, 487.5918361869106, 130.2...   \n",
       "3  [[469.88512086957803, 400.5933058104699, 19.48...   \n",
       "4  [[295.5080142065347, 215.4440509350271, 15.278...   \n",
       "5  [[215.90844666333564, 301.1099861537999, 10.89...   \n",
       "6  [[1246.9857575532992, 348.46116341001243, 132....   \n",
       "7  [[216.76906262330252, 499.54152572485384, 91.7...   \n",
       "8  [[255.56728176385403, 387.509410151327, 121.58...   \n",
       "9  [[348.03747502139396, 255.4204338514596, 281.4...   \n",
       "\n",
       "                                      predicted_poly  fp_check  tp  fp  fn  \n",
       "0  [[[(1, 260), (69, 313)], [(6, 8), (171, 49)], ...         0   3   0   1  \n",
       "1  [[[(586, 540), (630, 555)], [(728, 607), (745,...         1   3   1   5  \n",
       "2  [[[(1137, 476), (1280, 659)], [(1504, 377), (1...         0   2   0   3  \n",
       "3                                                 []         0   0   0   1  \n",
       "4  [[[(180, 248), (286, 291)], [(45, 92), (90, 11...         1   4   4   0  \n",
       "5  [[[(333, 321), (371, 348)], [(313, 319), (372,...         1   1   2   0  \n",
       "6  [[[(818, 248), (1212, 565)], [(159, 22), (231,...         1   1   3   2  \n",
       "7  [[[(330, 637), (460, 789)], [(239, 570), (306,...         0   2   0   1  \n",
       "8  [[[(634, 612), (742, 726)], [(89, 453), (205, ...         1   2   1   0  \n",
       "9  [[[(377, 254), (621, 520)], [(273, 241), (310,...         0   1   0   0  "
      ]
     },
     "execution_count": 55,
     "metadata": {},
     "output_type": "execute_result"
    }
   ],
   "source": [
    "df.head(10)"
   ]
  },
  {
   "cell_type": "code",
   "execution_count": 56,
   "metadata": {},
   "outputs": [],
   "source": [
    "df['precision']=df['tp']/(df['tp']+df['fp'])\n",
    "df['recall']=df['tp']/(df['tp']+df['fn'])\n",
    "df['f1-score']=2*(df['precision']*df['recall'])/ (df['precision']+df['recall'])"
   ]
  },
  {
   "cell_type": "code",
   "execution_count": 57,
   "metadata": {},
   "outputs": [],
   "source": [
    "df=df.fillna(0)"
   ]
  },
  {
   "cell_type": "code",
   "execution_count": 58,
   "metadata": {},
   "outputs": [],
   "source": [
    "result_num_parts = df.groupby('num').mean()[['precision','recall','f1-score']]"
   ]
  },
  {
   "cell_type": "code",
   "execution_count": 59,
   "metadata": {},
   "outputs": [],
   "source": [
    "result_num_parts['num_parts']=result_num_parts.index"
   ]
  },
  {
   "cell_type": "code",
   "execution_count": 60,
   "metadata": {},
   "outputs": [
    {
     "data": {
      "text/html": [
       "<div>\n",
       "<style scoped>\n",
       "    .dataframe tbody tr th:only-of-type {\n",
       "        vertical-align: middle;\n",
       "    }\n",
       "\n",
       "    .dataframe tbody tr th {\n",
       "        vertical-align: top;\n",
       "    }\n",
       "\n",
       "    .dataframe thead th {\n",
       "        text-align: right;\n",
       "    }\n",
       "</style>\n",
       "<table border=\"1\" class=\"dataframe\">\n",
       "  <thead>\n",
       "    <tr style=\"text-align: right;\">\n",
       "      <th></th>\n",
       "      <th>precision</th>\n",
       "      <th>recall</th>\n",
       "      <th>f1-score</th>\n",
       "      <th>num_parts</th>\n",
       "    </tr>\n",
       "    <tr>\n",
       "      <th>num</th>\n",
       "      <th></th>\n",
       "      <th></th>\n",
       "      <th></th>\n",
       "      <th></th>\n",
       "    </tr>\n",
       "  </thead>\n",
       "  <tbody>\n",
       "    <tr>\n",
       "      <th>0</th>\n",
       "      <td>0.545072</td>\n",
       "      <td>0.474092</td>\n",
       "      <td>0.459695</td>\n",
       "      <td>0</td>\n",
       "    </tr>\n",
       "    <tr>\n",
       "      <th>1</th>\n",
       "      <td>0.558148</td>\n",
       "      <td>0.513719</td>\n",
       "      <td>0.495840</td>\n",
       "      <td>1</td>\n",
       "    </tr>\n",
       "    <tr>\n",
       "      <th>2</th>\n",
       "      <td>0.594088</td>\n",
       "      <td>0.549613</td>\n",
       "      <td>0.528652</td>\n",
       "      <td>2</td>\n",
       "    </tr>\n",
       "    <tr>\n",
       "      <th>3</th>\n",
       "      <td>0.609977</td>\n",
       "      <td>0.541979</td>\n",
       "      <td>0.522199</td>\n",
       "      <td>3</td>\n",
       "    </tr>\n",
       "    <tr>\n",
       "      <th>4</th>\n",
       "      <td>0.614264</td>\n",
       "      <td>0.564858</td>\n",
       "      <td>0.551135</td>\n",
       "      <td>4</td>\n",
       "    </tr>\n",
       "    <tr>\n",
       "      <th>5</th>\n",
       "      <td>0.621325</td>\n",
       "      <td>0.567612</td>\n",
       "      <td>0.555102</td>\n",
       "      <td>5</td>\n",
       "    </tr>\n",
       "    <tr>\n",
       "      <th>6</th>\n",
       "      <td>0.602834</td>\n",
       "      <td>0.564237</td>\n",
       "      <td>0.535786</td>\n",
       "      <td>6</td>\n",
       "    </tr>\n",
       "    <tr>\n",
       "      <th>7</th>\n",
       "      <td>0.650754</td>\n",
       "      <td>0.543707</td>\n",
       "      <td>0.558747</td>\n",
       "      <td>7</td>\n",
       "    </tr>\n",
       "    <tr>\n",
       "      <th>8</th>\n",
       "      <td>0.665227</td>\n",
       "      <td>0.543923</td>\n",
       "      <td>0.559895</td>\n",
       "      <td>8</td>\n",
       "    </tr>\n",
       "    <tr>\n",
       "      <th>9</th>\n",
       "      <td>0.621756</td>\n",
       "      <td>0.541786</td>\n",
       "      <td>0.538051</td>\n",
       "      <td>9</td>\n",
       "    </tr>\n",
       "    <tr>\n",
       "      <th>10</th>\n",
       "      <td>0.559435</td>\n",
       "      <td>0.493337</td>\n",
       "      <td>0.487870</td>\n",
       "      <td>10</td>\n",
       "    </tr>\n",
       "    <tr>\n",
       "      <th>11</th>\n",
       "      <td>0.563147</td>\n",
       "      <td>0.479790</td>\n",
       "      <td>0.472384</td>\n",
       "      <td>11</td>\n",
       "    </tr>\n",
       "    <tr>\n",
       "      <th>12</th>\n",
       "      <td>0.574789</td>\n",
       "      <td>0.489840</td>\n",
       "      <td>0.491717</td>\n",
       "      <td>12</td>\n",
       "    </tr>\n",
       "    <tr>\n",
       "      <th>13</th>\n",
       "      <td>0.487493</td>\n",
       "      <td>0.446434</td>\n",
       "      <td>0.434321</td>\n",
       "      <td>13</td>\n",
       "    </tr>\n",
       "    <tr>\n",
       "      <th>14</th>\n",
       "      <td>0.514034</td>\n",
       "      <td>0.435310</td>\n",
       "      <td>0.432518</td>\n",
       "      <td>14</td>\n",
       "    </tr>\n",
       "    <tr>\n",
       "      <th>15</th>\n",
       "      <td>0.518235</td>\n",
       "      <td>0.510168</td>\n",
       "      <td>0.477589</td>\n",
       "      <td>15</td>\n",
       "    </tr>\n",
       "    <tr>\n",
       "      <th>16</th>\n",
       "      <td>0.475645</td>\n",
       "      <td>0.367318</td>\n",
       "      <td>0.382803</td>\n",
       "      <td>16</td>\n",
       "    </tr>\n",
       "    <tr>\n",
       "      <th>17</th>\n",
       "      <td>0.465199</td>\n",
       "      <td>0.425421</td>\n",
       "      <td>0.406950</td>\n",
       "      <td>17</td>\n",
       "    </tr>\n",
       "    <tr>\n",
       "      <th>18</th>\n",
       "      <td>0.486480</td>\n",
       "      <td>0.418812</td>\n",
       "      <td>0.415701</td>\n",
       "      <td>18</td>\n",
       "    </tr>\n",
       "    <tr>\n",
       "      <th>19</th>\n",
       "      <td>0.482618</td>\n",
       "      <td>0.416332</td>\n",
       "      <td>0.416830</td>\n",
       "      <td>19</td>\n",
       "    </tr>\n",
       "    <tr>\n",
       "      <th>20</th>\n",
       "      <td>0.551687</td>\n",
       "      <td>0.466758</td>\n",
       "      <td>0.469621</td>\n",
       "      <td>20</td>\n",
       "    </tr>\n",
       "    <tr>\n",
       "      <th>21</th>\n",
       "      <td>0.528345</td>\n",
       "      <td>0.395460</td>\n",
       "      <td>0.436603</td>\n",
       "      <td>21</td>\n",
       "    </tr>\n",
       "    <tr>\n",
       "      <th>22</th>\n",
       "      <td>0.604167</td>\n",
       "      <td>0.427056</td>\n",
       "      <td>0.477036</td>\n",
       "      <td>22</td>\n",
       "    </tr>\n",
       "    <tr>\n",
       "      <th>23</th>\n",
       "      <td>0.692143</td>\n",
       "      <td>0.386044</td>\n",
       "      <td>0.483763</td>\n",
       "      <td>23</td>\n",
       "    </tr>\n",
       "    <tr>\n",
       "      <th>24</th>\n",
       "      <td>0.446429</td>\n",
       "      <td>0.425000</td>\n",
       "      <td>0.423903</td>\n",
       "      <td>24</td>\n",
       "    </tr>\n",
       "    <tr>\n",
       "      <th>25</th>\n",
       "      <td>0.577778</td>\n",
       "      <td>0.348148</td>\n",
       "      <td>0.380193</td>\n",
       "      <td>25</td>\n",
       "    </tr>\n",
       "    <tr>\n",
       "      <th>26</th>\n",
       "      <td>1.000000</td>\n",
       "      <td>1.000000</td>\n",
       "      <td>1.000000</td>\n",
       "      <td>26</td>\n",
       "    </tr>\n",
       "  </tbody>\n",
       "</table>\n",
       "</div>"
      ],
      "text/plain": [
       "     precision    recall  f1-score  num_parts\n",
       "num                                          \n",
       "0     0.545072  0.474092  0.459695          0\n",
       "1     0.558148  0.513719  0.495840          1\n",
       "2     0.594088  0.549613  0.528652          2\n",
       "3     0.609977  0.541979  0.522199          3\n",
       "4     0.614264  0.564858  0.551135          4\n",
       "5     0.621325  0.567612  0.555102          5\n",
       "6     0.602834  0.564237  0.535786          6\n",
       "7     0.650754  0.543707  0.558747          7\n",
       "8     0.665227  0.543923  0.559895          8\n",
       "9     0.621756  0.541786  0.538051          9\n",
       "10    0.559435  0.493337  0.487870         10\n",
       "11    0.563147  0.479790  0.472384         11\n",
       "12    0.574789  0.489840  0.491717         12\n",
       "13    0.487493  0.446434  0.434321         13\n",
       "14    0.514034  0.435310  0.432518         14\n",
       "15    0.518235  0.510168  0.477589         15\n",
       "16    0.475645  0.367318  0.382803         16\n",
       "17    0.465199  0.425421  0.406950         17\n",
       "18    0.486480  0.418812  0.415701         18\n",
       "19    0.482618  0.416332  0.416830         19\n",
       "20    0.551687  0.466758  0.469621         20\n",
       "21    0.528345  0.395460  0.436603         21\n",
       "22    0.604167  0.427056  0.477036         22\n",
       "23    0.692143  0.386044  0.483763         23\n",
       "24    0.446429  0.425000  0.423903         24\n",
       "25    0.577778  0.348148  0.380193         25\n",
       "26    1.000000  1.000000  1.000000         26"
      ]
     },
     "execution_count": 60,
     "metadata": {},
     "output_type": "execute_result"
    }
   ],
   "source": [
    "result_num_parts"
   ]
  },
  {
   "cell_type": "code",
   "execution_count": 62,
   "metadata": {},
   "outputs": [
    {
     "data": {
      "image/png": "[encoded data removed]",
      "text/plain": [
       "<Figure size 720x360 with 1 Axes>"
      ]
     },
     "metadata": {
      "needs_background": "light"
     },
     "output_type": "display_data"
    }
   ],
   "source": [
    "fig = plt.figure(figsize = (10, 5)) \n",
    "\n",
    "num_hist=df['num'].value_counts().sort_index()\n",
    "plt.bar(num_hist.index.tolist(), num_hist.values.tolist()) \n",
    "plt.xlabel(\"Number of car-parts\") \n",
    "plt.ylabel(\"Counts\") \n",
    "plt.title(\"Number of car-parts vs Counts\") \n",
    "plt.show() "
   ]
  },
  {
   "cell_type": "code",
   "execution_count": 63,
   "metadata": {},
   "outputs": [
    {
     "data": {
      "text/plain": [
       "array([ 26, 217, 271, 290, 310, 324, 274, 194, 208, 136, 151, 127, 130,\n",
       "       118, 121, 131, 174, 173, 133, 113,  61,  42,  22,  15,   6,   6,\n",
       "         1])"
      ]
     },
     "execution_count": 63,
     "metadata": {},
     "output_type": "execute_result"
    }
   ],
   "source": [
    "num_hist.values"
   ]
  },
  {
   "cell_type": "code",
   "execution_count": 64,
   "metadata": {},
   "outputs": [
    {
     "data": {
      "image/png": "[encoded data removed]",
      "text/plain": [
       "<Figure size 720x360 with 1 Axes>"
      ]
     },
     "metadata": {
      "needs_background": "light"
     },
     "output_type": "display_data"
    }
   ],
   "source": [
    "fig = plt.figure(figsize = (10, 5)) \n",
    "  \n",
    "# creating the bar plot \n",
    "plt.bar(result_num_parts['num_parts'], result_num_parts['precision'], color ='blue',  \n",
    "        width = 0.4) \n",
    "  \n",
    "plt.xlabel(\"Number of car-parts\") \n",
    "plt.ylabel(\"Precision\") \n",
    "plt.title(\"Number of car-parts vs Precision\") \n",
    "plt.show() "
   ]
  },
  {
   "cell_type": "code",
   "execution_count": 65,
   "metadata": {},
   "outputs": [
    {
     "data": {
      "image/png": "[encoded data removed]",
      "text/plain": [
       "<Figure size 720x360 with 1 Axes>"
      ]
     },
     "metadata": {
      "needs_background": "light"
     },
     "output_type": "display_data"
    }
   ],
   "source": [
    "fig = plt.figure(figsize = (10, 5)) \n",
    "  \n",
    "# creating the bar plot \n",
    "plt.bar(result_num_parts['num_parts'], result_num_parts['recall'], color ='blue',  \n",
    "        width = 0.4) \n",
    "  \n",
    "plt.xlabel(\"Number of car-parts\") \n",
    "plt.ylabel(\"Recall\") \n",
    "plt.title(\"Number of car-parts vs Recall\") \n",
    "plt.show() "
   ]
  },
  {
   "cell_type": "code",
   "execution_count": 66,
   "metadata": {},
   "outputs": [
    {
     "data": {
      "image/png": "[encoded data removed]",
      "text/plain": [
       "<Figure size 720x360 with 1 Axes>"
      ]
     },
     "metadata": {
      "needs_background": "light"
     },
     "output_type": "display_data"
    }
   ],
   "source": [
    "fig = plt.figure(figsize = (10, 5)) \n",
    "  \n",
    "# creating the bar plot \n",
    "plt.bar(result_num_parts['num_parts'], result_num_parts['f1-score'], color ='blue',  \n",
    "        width = 0.4) \n",
    "  \n",
    "plt.xlabel(\"Number of car-parts\") \n",
    "plt.ylabel(\"Recall\") \n",
    "plt.title(\"Number of car-parts vs f1-score\") \n",
    "plt.show() "
   ]
  },
  {
   "cell_type": "code",
   "execution_count": null,
   "metadata": {},
   "outputs": [],
   "source": []
  },
  {
   "cell_type": "code",
   "execution_count": null,
   "metadata": {},
   "outputs": [],
   "source": []
  },
  {
   "cell_type": "code",
   "execution_count": null,
   "metadata": {},
   "outputs": [],
   "source": []
  },
  {
   "cell_type": "code",
   "execution_count": null,
   "metadata": {},
   "outputs": [],
   "source": []
  },
  {
   "cell_type": "code",
   "execution_count": null,
   "metadata": {},
   "outputs": [],
   "source": []
  }
 ],
 "metadata": {
  "kernelspec": {
   "display_name": "Python 3",
   "language": "python",
   "name": "python3"
  },
  "language_info": {
   "codemirror_mode": {
    "name": "ipython",
    "version": 3
   },
   "file_extension": ".py",
   "mimetype": "text/x-python",
   "name": "python",
   "nbconvert_exporter": "python",
   "pygments_lexer": "ipython3",
   "version": "3.7.7"
  }
 },
 "nbformat": 4,
 "nbformat_minor": 4
}
